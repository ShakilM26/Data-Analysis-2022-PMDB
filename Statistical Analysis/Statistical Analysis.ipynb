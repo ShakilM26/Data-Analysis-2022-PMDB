{
 "cells": [
  {
   "cell_type": "code",
   "execution_count": 1,
   "id": "2e37086f",
   "metadata": {},
   "outputs": [],
   "source": [
    "import pandas as pd\n",
    "import numpy as np\n",
    "import seaborn as sns"
   ]
  },
  {
   "cell_type": "code",
   "execution_count": 2,
   "id": "debc2177",
   "metadata": {},
   "outputs": [
    {
     "data": {
      "text/html": [
       "<div>\n",
       "<style scoped>\n",
       "    .dataframe tbody tr th:only-of-type {\n",
       "        vertical-align: middle;\n",
       "    }\n",
       "\n",
       "    .dataframe tbody tr th {\n",
       "        vertical-align: top;\n",
       "    }\n",
       "\n",
       "    .dataframe thead th {\n",
       "        text-align: right;\n",
       "    }\n",
       "</style>\n",
       "<table border=\"1\" class=\"dataframe\">\n",
       "  <thead>\n",
       "    <tr style=\"text-align: right;\">\n",
       "      <th></th>\n",
       "      <th>Year</th>\n",
       "      <th>Name</th>\n",
       "      <th>Genre</th>\n",
       "      <th>IMDB</th>\n",
       "      <th>Rotten Tomatoes</th>\n",
       "      <th>Rotten Audience</th>\n",
       "      <th>Metacritic</th>\n",
       "      <th>Google_user</th>\n",
       "      <th>PR</th>\n",
       "      <th>Country</th>\n",
       "      <th>Language</th>\n",
       "      <th>Comic</th>\n",
       "      <th>Animation</th>\n",
       "      <th>Tv_series</th>\n",
       "      <th>Budget</th>\n",
       "      <th>Box_office</th>\n",
       "      <th>Run_time</th>\n",
       "      <th>Month</th>\n",
       "    </tr>\n",
       "  </thead>\n",
       "  <tbody>\n",
       "    <tr>\n",
       "      <th>0</th>\n",
       "      <td>2021</td>\n",
       "      <td>The Last Duel</td>\n",
       "      <td>Drama/Historical Drama</td>\n",
       "      <td>7.4</td>\n",
       "      <td>85</td>\n",
       "      <td>81</td>\n",
       "      <td>67</td>\n",
       "      <td>73</td>\n",
       "      <td>7.0</td>\n",
       "      <td>UK</td>\n",
       "      <td>English</td>\n",
       "      <td>no</td>\n",
       "      <td>no</td>\n",
       "      <td>no</td>\n",
       "      <td>100.0</td>\n",
       "      <td>30.6</td>\n",
       "      <td>153</td>\n",
       "      <td>January</td>\n",
       "    </tr>\n",
       "    <tr>\n",
       "      <th>1</th>\n",
       "      <td>2021</td>\n",
       "      <td>Ghostbusters: Afterlife</td>\n",
       "      <td>Fantasy/Comedy</td>\n",
       "      <td>7.1</td>\n",
       "      <td>63</td>\n",
       "      <td>94</td>\n",
       "      <td>45</td>\n",
       "      <td>76</td>\n",
       "      <td>6.5</td>\n",
       "      <td>USA</td>\n",
       "      <td>English</td>\n",
       "      <td>no</td>\n",
       "      <td>no</td>\n",
       "      <td>no</td>\n",
       "      <td>75.0</td>\n",
       "      <td>204.4</td>\n",
       "      <td>124</td>\n",
       "      <td>January</td>\n",
       "    </tr>\n",
       "    <tr>\n",
       "      <th>2</th>\n",
       "      <td>2021</td>\n",
       "      <td>Hawkeye</td>\n",
       "      <td>Action/Superhero</td>\n",
       "      <td>7.5</td>\n",
       "      <td>88</td>\n",
       "      <td>89</td>\n",
       "      <td>66</td>\n",
       "      <td>89</td>\n",
       "      <td>7.5</td>\n",
       "      <td>USA</td>\n",
       "      <td>English</td>\n",
       "      <td>yes</td>\n",
       "      <td>no</td>\n",
       "      <td>yes</td>\n",
       "      <td>150.0</td>\n",
       "      <td>0.0</td>\n",
       "      <td>40-62</td>\n",
       "      <td>January</td>\n",
       "    </tr>\n",
       "    <tr>\n",
       "      <th>3</th>\n",
       "      <td>2021</td>\n",
       "      <td>Operation Java</td>\n",
       "      <td>Crime/Drama</td>\n",
       "      <td>8.2</td>\n",
       "      <td>0</td>\n",
       "      <td>0</td>\n",
       "      <td>0</td>\n",
       "      <td>96</td>\n",
       "      <td>7.5</td>\n",
       "      <td>India</td>\n",
       "      <td>Malayalam</td>\n",
       "      <td>no</td>\n",
       "      <td>no</td>\n",
       "      <td>no</td>\n",
       "      <td>0.0</td>\n",
       "      <td>0.0</td>\n",
       "      <td>146</td>\n",
       "      <td>January</td>\n",
       "    </tr>\n",
       "    <tr>\n",
       "      <th>4</th>\n",
       "      <td>2021</td>\n",
       "      <td>Eternals</td>\n",
       "      <td>Action/Superhero</td>\n",
       "      <td>6.3</td>\n",
       "      <td>47</td>\n",
       "      <td>77</td>\n",
       "      <td>52</td>\n",
       "      <td>71</td>\n",
       "      <td>6.5</td>\n",
       "      <td>USA</td>\n",
       "      <td>English</td>\n",
       "      <td>yes</td>\n",
       "      <td>no</td>\n",
       "      <td>no</td>\n",
       "      <td>200.0</td>\n",
       "      <td>402.0</td>\n",
       "      <td>156</td>\n",
       "      <td>January</td>\n",
       "    </tr>\n",
       "  </tbody>\n",
       "</table>\n",
       "</div>"
      ],
      "text/plain": [
       "   Year                     Name                   Genre  IMDB  \\\n",
       "0  2021            The Last Duel  Drama/Historical Drama   7.4   \n",
       "1  2021  Ghostbusters: Afterlife          Fantasy/Comedy   7.1   \n",
       "2  2021                  Hawkeye        Action/Superhero   7.5   \n",
       "3  2021           Operation Java             Crime/Drama   8.2   \n",
       "4  2021                 Eternals        Action/Superhero   6.3   \n",
       "\n",
       "   Rotten Tomatoes  Rotten Audience  Metacritic  Google_user   PR Country  \\\n",
       "0               85               81          67           73  7.0      UK   \n",
       "1               63               94          45           76  6.5     USA   \n",
       "2               88               89          66           89  7.5     USA   \n",
       "3                0                0           0           96  7.5   India   \n",
       "4               47               77          52           71  6.5     USA   \n",
       "\n",
       "    Language Comic Animation Tv_series  Budget  Box_office Run_time    Month  \n",
       "0    English    no        no        no   100.0        30.6      153  January  \n",
       "1    English    no        no        no    75.0       204.4      124  January  \n",
       "2    English   yes        no       yes   150.0         0.0    40-62  January  \n",
       "3  Malayalam    no        no        no     0.0         0.0      146  January  \n",
       "4    English   yes        no        no   200.0       402.0      156  January  "
      ]
     },
     "execution_count": 2,
     "metadata": {},
     "output_type": "execute_result"
    }
   ],
   "source": [
    "df = pd.read_csv('2022 Movies.csv')\n",
    "df.head()"
   ]
  },
  {
   "cell_type": "code",
   "execution_count": null,
   "id": "493e66fd",
   "metadata": {},
   "outputs": [],
   "source": []
  },
  {
   "cell_type": "markdown",
   "id": "2dac594d",
   "metadata": {},
   "source": [
    "### Descriptive Statistics"
   ]
  },
  {
   "cell_type": "code",
   "execution_count": 3,
   "id": "b6781f86",
   "metadata": {},
   "outputs": [
    {
     "data": {
      "text/html": [
       "<div>\n",
       "<style scoped>\n",
       "    .dataframe tbody tr th:only-of-type {\n",
       "        vertical-align: middle;\n",
       "    }\n",
       "\n",
       "    .dataframe tbody tr th {\n",
       "        vertical-align: top;\n",
       "    }\n",
       "\n",
       "    .dataframe thead th {\n",
       "        text-align: right;\n",
       "    }\n",
       "</style>\n",
       "<table border=\"1\" class=\"dataframe\">\n",
       "  <thead>\n",
       "    <tr style=\"text-align: right;\">\n",
       "      <th></th>\n",
       "      <th>Year</th>\n",
       "      <th>IMDB</th>\n",
       "      <th>Rotten Tomatoes</th>\n",
       "      <th>Rotten Audience</th>\n",
       "      <th>Metacritic</th>\n",
       "      <th>Google_user</th>\n",
       "      <th>PR</th>\n",
       "      <th>Budget</th>\n",
       "      <th>Box_office</th>\n",
       "    </tr>\n",
       "  </thead>\n",
       "  <tbody>\n",
       "    <tr>\n",
       "      <th>count</th>\n",
       "      <td>181.00000</td>\n",
       "      <td>181.000000</td>\n",
       "      <td>181.000000</td>\n",
       "      <td>181.000000</td>\n",
       "      <td>181.000000</td>\n",
       "      <td>181.000000</td>\n",
       "      <td>181.000000</td>\n",
       "      <td>181.000000</td>\n",
       "      <td>181.000000</td>\n",
       "    </tr>\n",
       "    <tr>\n",
       "      <th>mean</th>\n",
       "      <td>2015.61326</td>\n",
       "      <td>6.919337</td>\n",
       "      <td>56.690608</td>\n",
       "      <td>63.116022</td>\n",
       "      <td>34.679558</td>\n",
       "      <td>80.044199</td>\n",
       "      <td>6.825967</td>\n",
       "      <td>41.144696</td>\n",
       "      <td>95.236115</td>\n",
       "    </tr>\n",
       "    <tr>\n",
       "      <th>std</th>\n",
       "      <td>8.49213</td>\n",
       "      <td>0.753445</td>\n",
       "      <td>33.486703</td>\n",
       "      <td>28.739304</td>\n",
       "      <td>31.509735</td>\n",
       "      <td>10.821698</td>\n",
       "      <td>0.857218</td>\n",
       "      <td>64.200114</td>\n",
       "      <td>176.781253</td>\n",
       "    </tr>\n",
       "    <tr>\n",
       "      <th>min</th>\n",
       "      <td>1963.00000</td>\n",
       "      <td>4.900000</td>\n",
       "      <td>0.000000</td>\n",
       "      <td>0.000000</td>\n",
       "      <td>0.000000</td>\n",
       "      <td>50.000000</td>\n",
       "      <td>5.000000</td>\n",
       "      <td>0.000000</td>\n",
       "      <td>0.000000</td>\n",
       "    </tr>\n",
       "    <tr>\n",
       "      <th>25%</th>\n",
       "      <td>2012.00000</td>\n",
       "      <td>6.400000</td>\n",
       "      <td>40.000000</td>\n",
       "      <td>54.000000</td>\n",
       "      <td>0.000000</td>\n",
       "      <td>72.000000</td>\n",
       "      <td>6.000000</td>\n",
       "      <td>0.000000</td>\n",
       "      <td>0.000000</td>\n",
       "    </tr>\n",
       "    <tr>\n",
       "      <th>50%</th>\n",
       "      <td>2019.00000</td>\n",
       "      <td>6.900000</td>\n",
       "      <td>66.000000</td>\n",
       "      <td>72.000000</td>\n",
       "      <td>46.000000</td>\n",
       "      <td>81.000000</td>\n",
       "      <td>7.000000</td>\n",
       "      <td>9.000000</td>\n",
       "      <td>11.200000</td>\n",
       "    </tr>\n",
       "    <tr>\n",
       "      <th>75%</th>\n",
       "      <td>2022.00000</td>\n",
       "      <td>7.400000</td>\n",
       "      <td>85.000000</td>\n",
       "      <td>85.000000</td>\n",
       "      <td>63.000000</td>\n",
       "      <td>88.000000</td>\n",
       "      <td>7.500000</td>\n",
       "      <td>60.000000</td>\n",
       "      <td>104.400000</td>\n",
       "    </tr>\n",
       "    <tr>\n",
       "      <th>max</th>\n",
       "      <td>2022.00000</td>\n",
       "      <td>9.200000</td>\n",
       "      <td>100.000000</td>\n",
       "      <td>100.000000</td>\n",
       "      <td>86.000000</td>\n",
       "      <td>97.000000</td>\n",
       "      <td>9.000000</td>\n",
       "      <td>340.000000</td>\n",
       "      <td>1004.000000</td>\n",
       "    </tr>\n",
       "  </tbody>\n",
       "</table>\n",
       "</div>"
      ],
      "text/plain": [
       "             Year        IMDB  Rotten Tomatoes  Rotten Audience  Metacritic  \\\n",
       "count   181.00000  181.000000       181.000000       181.000000  181.000000   \n",
       "mean   2015.61326    6.919337        56.690608        63.116022   34.679558   \n",
       "std       8.49213    0.753445        33.486703        28.739304   31.509735   \n",
       "min    1963.00000    4.900000         0.000000         0.000000    0.000000   \n",
       "25%    2012.00000    6.400000        40.000000        54.000000    0.000000   \n",
       "50%    2019.00000    6.900000        66.000000        72.000000   46.000000   \n",
       "75%    2022.00000    7.400000        85.000000        85.000000   63.000000   \n",
       "max    2022.00000    9.200000       100.000000       100.000000   86.000000   \n",
       "\n",
       "       Google_user          PR      Budget   Box_office  \n",
       "count   181.000000  181.000000  181.000000   181.000000  \n",
       "mean     80.044199    6.825967   41.144696    95.236115  \n",
       "std      10.821698    0.857218   64.200114   176.781253  \n",
       "min      50.000000    5.000000    0.000000     0.000000  \n",
       "25%      72.000000    6.000000    0.000000     0.000000  \n",
       "50%      81.000000    7.000000    9.000000    11.200000  \n",
       "75%      88.000000    7.500000   60.000000   104.400000  \n",
       "max      97.000000    9.000000  340.000000  1004.000000  "
      ]
     },
     "execution_count": 3,
     "metadata": {},
     "output_type": "execute_result"
    }
   ],
   "source": [
    "df.describe()"
   ]
  },
  {
   "cell_type": "code",
   "execution_count": null,
   "id": "e18fe97c",
   "metadata": {},
   "outputs": [],
   "source": []
  },
  {
   "cell_type": "markdown",
   "id": "2468abf5",
   "metadata": {},
   "source": [
    "#### we can break down descriptive statistics functions"
   ]
  },
  {
   "cell_type": "code",
   "execution_count": 15,
   "id": "2851b2c3",
   "metadata": {},
   "outputs": [
    {
     "name": "stdout",
     "output_type": "stream",
     "text": [
      "Mean: 41.144696132596685\n",
      "Median: 9.0\n",
      "Standard Deviation: 64.20011412711762\n"
     ]
    }
   ],
   "source": [
    "print('Mean:', df['Budget'].mean())\n",
    "\n",
    "print('Median:', df['Budget'].median())\n",
    "\n",
    "print('Standard Deviation:', df['Budget'].std())"
   ]
  },
  {
   "cell_type": "code",
   "execution_count": null,
   "id": "50fb305a",
   "metadata": {},
   "outputs": [],
   "source": []
  },
  {
   "cell_type": "markdown",
   "id": "ce818527",
   "metadata": {},
   "source": [
    "#### IQR\n",
    "* actually there are several ways to find 'IQR'. Here we use two ways"
   ]
  },
  {
   "cell_type": "code",
   "execution_count": 17,
   "id": "e4c00eeb",
   "metadata": {},
   "outputs": [
    {
     "data": {
      "text/plain": [
       "60.0"
      ]
     },
     "execution_count": 17,
     "metadata": {},
     "output_type": "execute_result"
    }
   ],
   "source": [
    "#1\n",
    "from scipy import stats\n",
    "\n",
    "interquartile_range = stats.iqr(df['Budget'])\n",
    "interquartile_range"
   ]
  },
  {
   "cell_type": "code",
   "execution_count": 18,
   "id": "16264e37",
   "metadata": {},
   "outputs": [
    {
     "data": {
      "text/plain": [
       "60.0"
      ]
     },
     "execution_count": 18,
     "metadata": {},
     "output_type": "execute_result"
    }
   ],
   "source": [
    "#2\n",
    "q75, q25 = np.percentile(df['Budget'], [75,25])\n",
    "iqr = q75 - q25\n",
    "iqr"
   ]
  },
  {
   "cell_type": "markdown",
   "id": "ee4c47b8",
   "metadata": {},
   "source": [
    "#### Break down Interquartile range"
   ]
  },
  {
   "cell_type": "code",
   "execution_count": 31,
   "id": "d56eb5fa",
   "metadata": {},
   "outputs": [
    {
     "name": "stdout",
     "output_type": "stream",
     "text": [
      "25th percentile: 0.0\n",
      "50th percentile: 9.0\n",
      "75th percentile: 60.0\n"
     ]
    }
   ],
   "source": [
    "\n",
    "print('25th percentile:', np.percentile(df['Budget'], 25))\n",
    "print('50th percentile:', np.percentile(df['Budget'], 50))\n",
    "print('75th percentile:', np.percentile(df['Budget'], 75))"
   ]
  },
  {
   "cell_type": "code",
   "execution_count": 32,
   "id": "f47140de",
   "metadata": {},
   "outputs": [
    {
     "name": "stdout",
     "output_type": "stream",
     "text": [
      "Variance: 4098.883081261253\n"
     ]
    }
   ],
   "source": [
    "# variance\n",
    "\n",
    "print('Variance:', np.var(df['Budget']))"
   ]
  },
  {
   "cell_type": "code",
   "execution_count": 25,
   "id": "3358c1c2",
   "metadata": {},
   "outputs": [
    {
     "name": "stdout",
     "output_type": "stream",
     "text": [
      "Total Budget: 7447.1900000000005\n",
      "Total Box office Collection: 17237.73674871\n"
     ]
    }
   ],
   "source": [
    "# sum\n",
    "\n",
    "print('Total Budget:', np.sum(df['Budget']))\n",
    "\n",
    "print('Total Box office Collection:', np.sum(df['Box_office']))"
   ]
  },
  {
   "cell_type": "code",
   "execution_count": null,
   "id": "c736ed18",
   "metadata": {},
   "outputs": [],
   "source": []
  },
  {
   "cell_type": "code",
   "execution_count": 37,
   "id": "55d48126",
   "metadata": {},
   "outputs": [
    {
     "name": "stdout",
     "output_type": "stream",
     "text": [
      "Minimum: 0.0\n",
      "Maximum: 340.0\n"
     ]
    }
   ],
   "source": [
    "print('Minimum:', np.amin(df['Budget']))\n",
    "print('Maximum:', np.amax(df['Budget']))"
   ]
  },
  {
   "cell_type": "code",
   "execution_count": 39,
   "id": "96df77fd",
   "metadata": {},
   "outputs": [
    {
     "data": {
      "text/plain": [
       "340.0"
      ]
     },
     "execution_count": 39,
     "metadata": {},
     "output_type": "execute_result"
    }
   ],
   "source": [
    "# ptp returns the range of values (min-max)\n",
    "\n",
    "np.ptp(df['Budget']) # Check the previous block result"
   ]
  },
  {
   "cell_type": "code",
   "execution_count": null,
   "id": "1082f586",
   "metadata": {},
   "outputs": [],
   "source": []
  },
  {
   "cell_type": "code",
   "execution_count": null,
   "id": "0e0b0c73",
   "metadata": {},
   "outputs": [],
   "source": []
  },
  {
   "cell_type": "code",
   "execution_count": null,
   "id": "57a36bca",
   "metadata": {},
   "outputs": [],
   "source": []
  }
 ],
 "metadata": {
  "kernelspec": {
   "display_name": "Python 3 (ipykernel)",
   "language": "python",
   "name": "python3"
  },
  "language_info": {
   "codemirror_mode": {
    "name": "ipython",
    "version": 3
   },
   "file_extension": ".py",
   "mimetype": "text/x-python",
   "name": "python",
   "nbconvert_exporter": "python",
   "pygments_lexer": "ipython3",
   "version": "3.9.13"
  }
 },
 "nbformat": 4,
 "nbformat_minor": 5
}
